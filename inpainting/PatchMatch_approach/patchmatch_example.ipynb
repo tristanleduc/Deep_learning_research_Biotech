{
 "cells": [
  {
   "cell_type": "code",
   "execution_count": 1,
   "metadata": {},
   "outputs": [
    {
     "name": "stdout",
     "output_type": "stream",
     "text": [
      "Defaulting to user installation because normal site-packages is not writeable\n",
      "Requirement already satisfied: opencv-python in /home/tristan/.local/lib/python3.10/site-packages (4.8.0.74)\n",
      "Requirement already satisfied: numpy>=1.21.2 in /home/tristan/.local/lib/python3.10/site-packages (from opencv-python) (1.25.1)\n",
      "\u001b[33mDEPRECATION: distro-info 1.1build1 has a non-standard version number. pip 23.3 will enforce this behaviour change. A possible replacement is to upgrade to a newer version of distro-info or contact the author to suggest that they release a version with a conforming version number. Discussion can be found at https://github.com/pypa/pip/issues/12063\u001b[0m\u001b[33m\n",
      "\u001b[0m"
     ]
    },
    {
     "ename": "ModuleNotFoundError",
     "evalue": "No module named 'patch_match'",
     "output_type": "error",
     "traceback": [
      "\u001b[0;31m---------------------------------------------------------------------------\u001b[0m",
      "\u001b[0;31mModuleNotFoundError\u001b[0m                       Traceback (most recent call last)",
      "Cell \u001b[0;32mIn[1], line 7\u001b[0m\n\u001b[1;32m      5\u001b[0m \u001b[39mimport\u001b[39;00m \u001b[39mos\u001b[39;00m\n\u001b[1;32m      6\u001b[0m \u001b[39mimport\u001b[39;00m \u001b[39mnumpy\u001b[39;00m \u001b[39mas\u001b[39;00m \u001b[39mnp\u001b[39;00m\n\u001b[0;32m----> 7\u001b[0m \u001b[39mimport\u001b[39;00m \u001b[39mpatch_match\u001b[39;00m\n\u001b[1;32m      9\u001b[0m \u001b[39mdef\u001b[39;00m \u001b[39mcreate_gt_keep_mask\u001b[39m(input_img_path):\n\u001b[1;32m     10\u001b[0m     \u001b[39m\"\"\"\u001b[39;00m\n\u001b[1;32m     11\u001b[0m \u001b[39m    Create a mask for the image, where the black pixels are 0 and the white pixels are 255\u001b[39;00m\n\u001b[1;32m     12\u001b[0m \u001b[39m    Params: fullname: the path to the image\u001b[39;00m\n\u001b[1;32m     13\u001b[0m \u001b[39m    return: the mask as a numpy array\u001b[39;00m\n\u001b[1;32m     14\u001b[0m \n\u001b[1;32m     15\u001b[0m \u001b[39m    \"\"\"\u001b[39;00m\n",
      "\u001b[0;31mModuleNotFoundError\u001b[0m: No module named 'patch_match'"
     ]
    }
   ],
   "source": [
    "# install opencv\n",
    "!pip install opencv-python\n",
    "\n",
    "from PIL import Image\n",
    "import os\n",
    "import numpy as np\n",
    "import patch_match\n",
    "\n",
    "def create_gt_keep_mask(input_img_path):\n",
    "    \"\"\"\n",
    "    Create a mask for the image, where the black pixels are 0 and the white pixels are 255\n",
    "    Params: fullname: the path to the image\n",
    "    return: the mask as a numpy array\n",
    "\n",
    "    \"\"\"\n",
    "    img = Image.open(input_img_path)\n",
    "    img = img.convert('L')\n",
    "    img = np.array(img)\n",
    "    img = np.where(img >= 0, 255, 0)\n",
    "    \n",
    "    return img\n"
   ]
  },
  {
   "cell_type": "code",
   "execution_count": 3,
   "metadata": {},
   "outputs": [],
   "source": [
    "original_image_path = \"/home/tristan/Documents/data/2021_0703_Gong/P1/P1_F1_tet_1_100_005_0002.tif\"\n",
    "\n",
    "# Create the mask\n",
    "\n",
    "input_image = Image.open(original_image_path)\n",
    "mask = create_gt_keep_mask(original_image_path)\n"
   ]
  },
  {
   "cell_type": "code",
   "execution_count": null,
   "metadata": {},
   "outputs": [],
   "source": []
  }
 ],
 "metadata": {
  "kernelspec": {
   "display_name": "Python 3",
   "language": "python",
   "name": "python3"
  },
  "language_info": {
   "codemirror_mode": {
    "name": "ipython",
    "version": 3
   },
   "file_extension": ".py",
   "mimetype": "text/x-python",
   "name": "python",
   "nbconvert_exporter": "python",
   "pygments_lexer": "ipython3",
   "version": "3.10.6"
  },
  "orig_nbformat": 4
 },
 "nbformat": 4,
 "nbformat_minor": 2
}
